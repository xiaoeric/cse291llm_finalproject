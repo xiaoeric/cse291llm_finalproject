{
 "cells": [
  {
   "cell_type": "code",
   "execution_count": 52,
   "metadata": {},
   "outputs": [],
   "source": [
    "import numpy as np\n",
    "from personas import personas\n",
    "import pandas as pd\n",
    "import matplotlib.pyplot as plt"
   ]
  },
  {
   "cell_type": "code",
   "execution_count": 2,
   "metadata": {},
   "outputs": [],
   "source": [
    "def extract_id(string):\n",
    "    tokens = string.split()\n",
    "    id = tokens[0]\n",
    "    text = \" \".join(tokens[1:])\n",
    "    return id, text"
   ]
  },
  {
   "cell_type": "code",
   "execution_count": 3,
   "metadata": {},
   "outputs": [],
   "source": [
    "with open(\"P11-1076.Datasets/data/raw/questions\") as f:\n",
    "    questions = f.readlines()\n",
    "idx_to_qid = [extract_id(q)[0] for q in questions]\n",
    "qid_to_idx = {q: i for i, q in enumerate(idx_to_qid)}"
   ]
  },
  {
   "cell_type": "code",
   "execution_count": 4,
   "metadata": {},
   "outputs": [],
   "source": [
    "idx_to_pid = list(personas.keys())\n",
    "pid_to_idx = {p: i for i, p in enumerate(idx_to_pid)}"
   ]
  },
  {
   "cell_type": "code",
   "execution_count": 37,
   "metadata": {},
   "outputs": [],
   "source": [
    "base_df = pd.read_json(\"p1_0.jsonl\", lines=True)\n",
    "cond_df = pd.read_json(\"p1_1.jsonl\", lines=True)"
   ]
  },
  {
   "cell_type": "code",
   "execution_count": 38,
   "metadata": {},
   "outputs": [],
   "source": [
    "assert(base_df[\"completion\"].dtype == float)\n",
    "assert(cond_df[\"completion\"].dtype == float)"
   ]
  },
  {
   "cell_type": "code",
   "execution_count": 72,
   "metadata": {},
   "outputs": [],
   "source": [
    "def read_to_float(filename):\n",
    "    with open(filename) as f:\n",
    "        lines = f.readlines()\n",
    "        lines = [float(l.strip()) for l in lines]\n",
    "    return lines\n",
    "\n",
    "def create_from_files(src_dir, q_id):\n",
    "    dir = src_dir + q_id + \"/\"\n",
    "    me = read_to_float(dir + \"me\")\n",
    "    other = read_to_float(dir + \"other\")\n",
    "    ave = read_to_float(dir + \"ave\")\n",
    "\n",
    "    assert(len(me) == len(other))\n",
    "    assert(len(other) == len(ave))\n",
    "\n",
    "    dicts = []\n",
    "    for i in range(len(me)):\n",
    "        dicts.append({\n",
    "            \"q_id\": float(q_id),\n",
    "            \"r_idx\": i,\n",
    "            \"me\": me[i],\n",
    "            \"other\": other[i],\n",
    "            \"ave\": ave[i],\n",
    "        })\n",
    "    return dicts\n",
    "\n",
    "scores_dir = \"P11-1076.Datasets/data/scores/\"\n",
    "human_entries = []\n",
    "for q_id in idx_to_qid:\n",
    "    human_entries += create_from_files(scores_dir, q_id)"
   ]
  },
  {
   "cell_type": "code",
   "execution_count": 73,
   "metadata": {},
   "outputs": [],
   "source": [
    "hum_df = pd.DataFrame.from_records(human_entries)\n",
    "hum_df[\"completion\"] = hum_df[\"ave\"]"
   ]
  },
  {
   "cell_type": "code",
   "execution_count": 50,
   "metadata": {},
   "outputs": [
    {
     "data": {
      "text/html": [
       "<div>\n",
       "<style scoped>\n",
       "    .dataframe tbody tr th:only-of-type {\n",
       "        vertical-align: middle;\n",
       "    }\n",
       "\n",
       "    .dataframe tbody tr th {\n",
       "        vertical-align: top;\n",
       "    }\n",
       "\n",
       "    .dataframe thead th {\n",
       "        text-align: right;\n",
       "    }\n",
       "</style>\n",
       "<table border=\"1\" class=\"dataframe\">\n",
       "  <thead>\n",
       "    <tr style=\"text-align: right;\">\n",
       "      <th></th>\n",
       "      <th>r_idx</th>\n",
       "      <th>me</th>\n",
       "      <th>other</th>\n",
       "      <th>ave</th>\n",
       "    </tr>\n",
       "  </thead>\n",
       "  <tbody>\n",
       "    <tr>\n",
       "      <th>count</th>\n",
       "      <td>2442.000000</td>\n",
       "      <td>2442.000000</td>\n",
       "      <td>2442.000000</td>\n",
       "      <td>2442.000000</td>\n",
       "    </tr>\n",
       "    <tr>\n",
       "      <th>mean</th>\n",
       "      <td>13.605651</td>\n",
       "      <td>4.843161</td>\n",
       "      <td>5.457617</td>\n",
       "      <td>4.190571</td>\n",
       "    </tr>\n",
       "    <tr>\n",
       "      <th>std</th>\n",
       "      <td>8.219322</td>\n",
       "      <td>2.644352</td>\n",
       "      <td>2.228899</td>\n",
       "      <td>1.112038</td>\n",
       "    </tr>\n",
       "    <tr>\n",
       "      <th>min</th>\n",
       "      <td>0.000000</td>\n",
       "      <td>0.000000</td>\n",
       "      <td>0.000000</td>\n",
       "      <td>0.000000</td>\n",
       "    </tr>\n",
       "    <tr>\n",
       "      <th>25%</th>\n",
       "      <td>7.000000</td>\n",
       "      <td>3.000000</td>\n",
       "      <td>4.000000</td>\n",
       "      <td>3.500000</td>\n",
       "    </tr>\n",
       "    <tr>\n",
       "      <th>50%</th>\n",
       "      <td>14.000000</td>\n",
       "      <td>5.000000</td>\n",
       "      <td>5.000000</td>\n",
       "      <td>5.000000</td>\n",
       "    </tr>\n",
       "    <tr>\n",
       "      <th>75%</th>\n",
       "      <td>21.000000</td>\n",
       "      <td>5.000000</td>\n",
       "      <td>5.000000</td>\n",
       "      <td>5.000000</td>\n",
       "    </tr>\n",
       "    <tr>\n",
       "      <th>max</th>\n",
       "      <td>30.000000</td>\n",
       "      <td>10.000000</td>\n",
       "      <td>10.000000</td>\n",
       "      <td>5.000000</td>\n",
       "    </tr>\n",
       "  </tbody>\n",
       "</table>\n",
       "</div>"
      ],
      "text/plain": [
       "             r_idx           me        other          ave\n",
       "count  2442.000000  2442.000000  2442.000000  2442.000000\n",
       "mean     13.605651     4.843161     5.457617     4.190571\n",
       "std       8.219322     2.644352     2.228899     1.112038\n",
       "min       0.000000     0.000000     0.000000     0.000000\n",
       "25%       7.000000     3.000000     4.000000     3.500000\n",
       "50%      14.000000     5.000000     5.000000     5.000000\n",
       "75%      21.000000     5.000000     5.000000     5.000000\n",
       "max      30.000000    10.000000    10.000000     5.000000"
      ]
     },
     "execution_count": 50,
     "metadata": {},
     "output_type": "execute_result"
    }
   ],
   "source": [
    "hum_df.describe()"
   ]
  },
  {
   "cell_type": "code",
   "execution_count": 51,
   "metadata": {},
   "outputs": [
    {
     "data": {
      "text/html": [
       "<div>\n",
       "<style scoped>\n",
       "    .dataframe tbody tr th:only-of-type {\n",
       "        vertical-align: middle;\n",
       "    }\n",
       "\n",
       "    .dataframe tbody tr th {\n",
       "        vertical-align: top;\n",
       "    }\n",
       "\n",
       "    .dataframe thead th {\n",
       "        text-align: right;\n",
       "    }\n",
       "</style>\n",
       "<table border=\"1\" class=\"dataframe\">\n",
       "  <thead>\n",
       "    <tr style=\"text-align: right;\">\n",
       "      <th></th>\n",
       "      <th>q_id</th>\n",
       "      <th>r_idx</th>\n",
       "      <th>p_id</th>\n",
       "      <th>completion</th>\n",
       "    </tr>\n",
       "  </thead>\n",
       "  <tbody>\n",
       "    <tr>\n",
       "      <th>count</th>\n",
       "      <td>2442.000000</td>\n",
       "      <td>2442.000000</td>\n",
       "      <td>2442.0</td>\n",
       "      <td>2442.000000</td>\n",
       "    </tr>\n",
       "    <tr>\n",
       "      <th>mean</th>\n",
       "      <td>7.202211</td>\n",
       "      <td>13.605651</td>\n",
       "      <td>1.0</td>\n",
       "      <td>3.139025</td>\n",
       "    </tr>\n",
       "    <tr>\n",
       "      <th>std</th>\n",
       "      <td>3.688497</td>\n",
       "      <td>8.219322</td>\n",
       "      <td>0.0</td>\n",
       "      <td>1.741316</td>\n",
       "    </tr>\n",
       "    <tr>\n",
       "      <th>min</th>\n",
       "      <td>1.100000</td>\n",
       "      <td>0.000000</td>\n",
       "      <td>1.0</td>\n",
       "      <td>0.000000</td>\n",
       "    </tr>\n",
       "    <tr>\n",
       "      <th>25%</th>\n",
       "      <td>3.700000</td>\n",
       "      <td>7.000000</td>\n",
       "      <td>1.0</td>\n",
       "      <td>2.000000</td>\n",
       "    </tr>\n",
       "    <tr>\n",
       "      <th>50%</th>\n",
       "      <td>7.400000</td>\n",
       "      <td>14.000000</td>\n",
       "      <td>1.0</td>\n",
       "      <td>3.000000</td>\n",
       "    </tr>\n",
       "    <tr>\n",
       "      <th>75%</th>\n",
       "      <td>10.600000</td>\n",
       "      <td>21.000000</td>\n",
       "      <td>1.0</td>\n",
       "      <td>5.000000</td>\n",
       "    </tr>\n",
       "    <tr>\n",
       "      <th>max</th>\n",
       "      <td>12.900000</td>\n",
       "      <td>30.000000</td>\n",
       "      <td>1.0</td>\n",
       "      <td>5.000000</td>\n",
       "    </tr>\n",
       "  </tbody>\n",
       "</table>\n",
       "</div>"
      ],
      "text/plain": [
       "              q_id        r_idx    p_id   completion\n",
       "count  2442.000000  2442.000000  2442.0  2442.000000\n",
       "mean      7.202211    13.605651     1.0     3.139025\n",
       "std       3.688497     8.219322     0.0     1.741316\n",
       "min       1.100000     0.000000     1.0     0.000000\n",
       "25%       3.700000     7.000000     1.0     2.000000\n",
       "50%       7.400000    14.000000     1.0     3.000000\n",
       "75%      10.600000    21.000000     1.0     5.000000\n",
       "max      12.900000    30.000000     1.0     5.000000"
      ]
     },
     "execution_count": 51,
     "metadata": {},
     "output_type": "execute_result"
    }
   ],
   "source": [
    "base_df.describe()"
   ]
  },
  {
   "cell_type": "code",
   "execution_count": 60,
   "metadata": {},
   "outputs": [
    {
     "data": {
      "text/plain": [
       "{'whiskers': [<matplotlib.lines.Line2D at 0x15c4eeca2c0>,\n",
       "  <matplotlib.lines.Line2D at 0x15c4eeca560>,\n",
       "  <matplotlib.lines.Line2D at 0x15c4eecb520>,\n",
       "  <matplotlib.lines.Line2D at 0x15c4eecb7c0>,\n",
       "  <matplotlib.lines.Line2D at 0x15c4ef1c7f0>,\n",
       "  <matplotlib.lines.Line2D at 0x15c4ef1ca90>,\n",
       "  <matplotlib.lines.Line2D at 0x15c4ef1da50>,\n",
       "  <matplotlib.lines.Line2D at 0x15c4ef1dcf0>,\n",
       "  <matplotlib.lines.Line2D at 0x15c4ef1ecb0>,\n",
       "  <matplotlib.lines.Line2D at 0x15c4ef1ef50>,\n",
       "  <matplotlib.lines.Line2D at 0x15c4ef1ff10>,\n",
       "  <matplotlib.lines.Line2D at 0x15c4ef581f0>,\n",
       "  <matplotlib.lines.Line2D at 0x15c4ef591b0>,\n",
       "  <matplotlib.lines.Line2D at 0x15c4ef59450>,\n",
       "  <matplotlib.lines.Line2D at 0x15c4ef5a410>,\n",
       "  <matplotlib.lines.Line2D at 0x15c4ef5a6b0>],\n",
       " 'caps': [<matplotlib.lines.Line2D at 0x15c4eeca800>,\n",
       "  <matplotlib.lines.Line2D at 0x15c4eecaaa0>,\n",
       "  <matplotlib.lines.Line2D at 0x15c4eecba60>,\n",
       "  <matplotlib.lines.Line2D at 0x15c4eecbd00>,\n",
       "  <matplotlib.lines.Line2D at 0x15c4ef1cd30>,\n",
       "  <matplotlib.lines.Line2D at 0x15c4ef1cfd0>,\n",
       "  <matplotlib.lines.Line2D at 0x15c4ef1df90>,\n",
       "  <matplotlib.lines.Line2D at 0x15c4ef1e230>,\n",
       "  <matplotlib.lines.Line2D at 0x15c4ef1f1f0>,\n",
       "  <matplotlib.lines.Line2D at 0x15c4ef1f490>,\n",
       "  <matplotlib.lines.Line2D at 0x15c4ef58490>,\n",
       "  <matplotlib.lines.Line2D at 0x15c4ef58730>,\n",
       "  <matplotlib.lines.Line2D at 0x15c4ef596f0>,\n",
       "  <matplotlib.lines.Line2D at 0x15c4ef59990>,\n",
       "  <matplotlib.lines.Line2D at 0x15c4ef5a950>,\n",
       "  <matplotlib.lines.Line2D at 0x15c4ef5abf0>],\n",
       " 'boxes': [<matplotlib.lines.Line2D at 0x15c4eeca020>,\n",
       "  <matplotlib.lines.Line2D at 0x15c4eecb280>,\n",
       "  <matplotlib.lines.Line2D at 0x15c4ef1c550>,\n",
       "  <matplotlib.lines.Line2D at 0x15c4ef1d7b0>,\n",
       "  <matplotlib.lines.Line2D at 0x15c4ef1ea10>,\n",
       "  <matplotlib.lines.Line2D at 0x15c4ef1fc70>,\n",
       "  <matplotlib.lines.Line2D at 0x15c4ef58f10>,\n",
       "  <matplotlib.lines.Line2D at 0x15c4ef5a170>],\n",
       " 'medians': [<matplotlib.lines.Line2D at 0x15c4eecad40>,\n",
       "  <matplotlib.lines.Line2D at 0x15c4eecbfa0>,\n",
       "  <matplotlib.lines.Line2D at 0x15c4ef1d270>,\n",
       "  <matplotlib.lines.Line2D at 0x15c4ef1e4d0>,\n",
       "  <matplotlib.lines.Line2D at 0x15c4ef1f730>,\n",
       "  <matplotlib.lines.Line2D at 0x15c4ef589d0>,\n",
       "  <matplotlib.lines.Line2D at 0x15c4ef59c30>,\n",
       "  <matplotlib.lines.Line2D at 0x15c4ef5ae90>],\n",
       " 'fliers': [<matplotlib.lines.Line2D at 0x15c4eecb010>,\n",
       "  <matplotlib.lines.Line2D at 0x15c4ef1c280>,\n",
       "  <matplotlib.lines.Line2D at 0x15c4ef1d510>,\n",
       "  <matplotlib.lines.Line2D at 0x15c4ef1e770>,\n",
       "  <matplotlib.lines.Line2D at 0x15c4ef1f9d0>,\n",
       "  <matplotlib.lines.Line2D at 0x15c4ef58c70>,\n",
       "  <matplotlib.lines.Line2D at 0x15c4ef59ed0>,\n",
       "  <matplotlib.lines.Line2D at 0x15c4ef5b130>],\n",
       " 'means': []}"
      ]
     },
     "execution_count": 60,
     "metadata": {},
     "output_type": "execute_result"
    },
    {
     "data": {
      "image/png": "[encoded data removed]",
      "text/plain": [
       "<Figure size 640x480 with 1 Axes>"
      ]
     },
     "metadata": {},
     "output_type": "display_data"
    }
   ],
   "source": [
    "cond_data = [cond_df[cond_df[\"persona_id\"] == p_id][\"completion\"] for p_id in [1.0, 1.1, 2.0, 2.1, 2.2, 2.3]]\n",
    "plt.boxplot([hum_df[\"ave\"], base_df[\"completion\"]] + cond_data, \n",
    "    labels=[\"human\", \"base\", \"phys. disabled\", \"able bodied\", \"jewish\", \"christian\", \"atheist\", \"religious\"])"
   ]
  },
  {
   "cell_type": "code",
   "execution_count": 74,
   "metadata": {},
   "outputs": [],
   "source": [
    "def score_diff(first_df, second_df, q_id=None, r_idx=None):\n",
    "    qs = idx_to_qid if q_id is None else [q_id]\n",
    "    diff = 0\n",
    "    for q in qs:\n",
    "        first = first_df[first_df[\"q_id\"] == float(q)]\n",
    "        second = second_df[second_df[\"q_id\"] == float(q)]\n",
    "        if r_idx is None:\n",
    "            for r in first[\"r_idx\"]:\n",
    "                diff += first[first[\"r_idx\"] == r][\"completion\"].iloc[0] - second[second[\"r_idx\"] == r][\"completion\"].iloc[0]\n",
    "        else:\n",
    "            diff += first[first[\"r_idx\"] == r_idx][\"completion\"].iloc[0] - second[second[\"r_idx\"] == r_idx][\"completion\"].iloc[0]\n",
    "    return diff"
   ]
  },
  {
   "cell_type": "code",
   "execution_count": 77,
   "metadata": {},
   "outputs": [
    {
     "data": {
      "text/plain": [
       "<BarContainer object of 7 artists>"
      ]
     },
     "execution_count": 77,
     "metadata": {},
     "output_type": "execute_result"
    },
    {
     "data": {
      "image/png": "[encoded data removed]",
      "text/plain": [
       "<Figure size 640x480 with 1 Axes>"
      ]
     },
     "metadata": {},
     "output_type": "display_data"
    }
   ],
   "source": [
    "cond_compare = [cond_df[cond_df[\"persona_id\"] == p_id] for p_id in [1.0, 1.1, 2.0, 2.1, 2.2, 2.3]]\n",
    "to_compare = [base_df] + cond_compare\n",
    "\n",
    "plt.bar([\"base\", \"disabled\", \"able\", \"jewish\", \"christian\", \"atheist\", \"religious\"],\n",
    "        [score_diff(df, hum_df) for df in to_compare])"
   ]
  },
  {
   "cell_type": "code",
   "execution_count": 78,
   "metadata": {},
   "outputs": [
    {
     "data": {
      "text/plain": [
       "<BarContainer object of 6 artists>"
      ]
     },
     "execution_count": 78,
     "metadata": {},
     "output_type": "execute_result"
    },
    {
     "data": {
      "image/png": "[encoded data removed]",
      "text/plain": [
       "<Figure size 640x480 with 1 Axes>"
      ]
     },
     "metadata": {},
     "output_type": "display_data"
    }
   ],
   "source": [
    "plt.bar([\"disabled\", \"able\", \"jewish\", \"christian\", \"atheist\", \"religious\"],\n",
    "        [score_diff(df, base_df) for df in cond_compare])"
   ]
  },
  {
   "cell_type": "code",
   "execution_count": null,
   "metadata": {},
   "outputs": [],
   "source": []
  }
 ],
 "metadata": {
  "kernelspec": {
   "display_name": ".venv",
   "language": "python",
   "name": "python3"
  },
  "language_info": {
   "codemirror_mode": {
    "name": "ipython",
    "version": 3
   },
   "file_extension": ".py",
   "mimetype": "text/x-python",
   "name": "python",
   "nbconvert_exporter": "python",
   "pygments_lexer": "ipython3",
   "version": "3.10.1"
  }
 },
 "nbformat": 4,
 "nbformat_minor": 2
}
