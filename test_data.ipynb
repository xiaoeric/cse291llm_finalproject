{
 "cells": [
  {
   "cell_type": "code",
   "execution_count": 1,
   "metadata": {},
   "outputs": [],
   "source": [
    "data_dir = \"P11-1076.Datasets/data/raw/\"\n",
    "questions_dir = data_dir + \"questions\"\n",
    "answers_dir = data_dir + \"answers\""
   ]
  },
  {
   "cell_type": "code",
   "execution_count": 2,
   "metadata": {},
   "outputs": [],
   "source": [
    "with open(questions_dir) as f:\n",
    "    questions = f.readlines()"
   ]
  },
  {
   "cell_type": "code",
   "execution_count": 3,
   "metadata": {},
   "outputs": [
    {
     "data": {
      "text/plain": [
       "['1.1 What is the role of a prototype program in problem solving?\\n',\n",
       " '1.2 What stages in the software life cycle are influenced by the testing stage?\\n',\n",
       " '1.3 What are the main advantages associated with object-oriented programming?\\n',\n",
       " '1.4 Where do C++ programs begin to execute?\\n',\n",
       " '1.5 What is a variable?\\n',\n",
       " '1.6 Where are variables declared in a C++ program?\\n',\n",
       " '1.7 What is the main difference between a while and a do...while statement?\\n',\n",
       " '2.1 What is typically included in a class definition?\\n',\n",
       " '2.2 What is the difference between a data member and a local variable inside a member function?\\n',\n",
       " '2.3 What is the difference between a constructor and a function?\\n',\n",
       " '2.4 When does C++ create a default constructor?\\n',\n",
       " '2.5 How many constructors can be created for a class?\\n',\n",
       " '2.6 What is the difference between a function prototype and a function definition?\\n',\n",
       " '2.7 What is the role of a header-file?\\n',\n",
       " '3.1 What does a function signature include?\\n',\n",
       " '3.2 What is the scope of global variables?\\n',\n",
       " '3.3 How does the compiler handle inline functions?\\n',\n",
       " '3.4 What is the main advantage associated with function arguments that are passed by reference? \\n',\n",
       " '3.5 How are overloaded functions differentiated by the compiler?\\n',\n",
       " '3.6 When defining a recursive function, what are possible causes for infinite recursion?\\n',\n",
       " '3.7 What are the similarities between iteration and recursion?\\n',\n",
       " '4.1 What are the two different ways of specifying the length of an array?\\n',\n",
       " '4.2 What is the main difference between strings declared using the type string versus strings declared using an array of characters?\\n',\n",
       " '4.3 How are arrays passed to functions?\\n',\n",
       " '4.4 What is the difference between an array declared as static, and one that is not?\\n',\n",
       " '4.5 How many dimensions need to be specified when passing a multi-dimensional array as an argument to a function?\\n',\n",
       " '4.6 Using an index outside the bounds of the array generates an error. Is this a compilation error or a run-time error?\\n',\n",
       " '4.7 How are bi-dimensional arrays stored in memory, by rows or by columns?\\n',\n",
       " '5.1 In one sentence, what is the main idea implemented by insertion sort?\\n',\n",
       " '5.2 In one sentence, what is the main idea implemented by selection sort?\\n',\n",
       " '5.3 What is the number of operations for insertion sort under a best-case scenario, and what is the best-case scenario?\\n',\n",
       " '5.4 What is the base case for a recursive implementation of merge sort?\\n',\n",
       " '6.1 What is a pointer?\\n',\n",
       " '6.2 What does the address (&) operator return?\\n',\n",
       " '6.3 What does the star (*) operator return?\\n',\n",
       " '6.4 How can an array be addressed in pointer/offset notation?\\n',\n",
       " '6.5 What does the sizeof operator return?\\n',\n",
       " '6.6 What are the different ways to pass a pointer to a function?\\n',\n",
       " '6.7 What is a function pointer?\\n',\n",
       " '7.1 What is a linked list?\\n',\n",
       " '7.2 What is the main advantage of linked lists over arrays?\\n',\n",
       " '7.3 What is the main advantage of arrays over linked lists?\\n',\n",
       " '7.4 How are linked lists passed as arguments to a function?\\n',\n",
       " '7.5 What is the difference between a circular linked list and a basic linked list?\\n',\n",
       " '7.6 What is the main advantage of a doubly-linked list over a basic linked list?\\n',\n",
       " '7.7 What is the main disadvantage of a doubly-linked list over a basic linked list?\\n',\n",
       " '8.1 What is a stack?\\n',\n",
       " '8.2 What are the two main functions defined by a stack?\\n',\n",
       " '8.3 How can you implement a stack with an array?\\n',\n",
       " '8.4 How can you implement a stack with a list?\\n',\n",
       " '8.5 Which implementation (array-based vs. list-based) is preferred, and why?\\n',\n",
       " '8.6 How are infix expressions evaluated by computers?\\n',\n",
       " '8.7 What operations would you need to perform to find a given element on a stack?\\n',\n",
       " '9.1 What is a queue?\\n',\n",
       " '9.2 What are the two main functions defined by a queue?\\n',\n",
       " '9.3 How can you implement a queue with an array?\\n',\n",
       " '9.4 How can you implement a queue with a list?\\n',\n",
       " '9.5 Which implementation (array-based vs. list-based) is preferred for a queue, and why?\\n',\n",
       " '9.6 What is the stack operation corresponding to the enqueue operation in queues?\\n',\n",
       " '9.7 What data structure is more appropriate for scheduling printing jobs at a printer, a stack or a queue?\\n',\n",
       " '10.1 What is a tree?\\n',\n",
       " '10.2 What is the height of a tree?\\n',\n",
       " '10.3 What is a leaf?\\n',\n",
       " '10.4 What is a binary tree?\\n',\n",
       " '10.5 What is a binary search tree?\\n',\n",
       " '10.6 What is the inorder traversal of a binary tree?\\n',\n",
       " '10.7 How many comparisons does it take to find an element in a binary search tree?\\n',\n",
       " '11.1 What are the elements typically included in a class definition?\\n',\n",
       " '11.2 What are the access-specifiers that can be used in a C++ class definition?\\n',\n",
       " '11.3 How are objects initialized when they are created?\\n',\n",
       " '11.4 What is a function signature?\\n',\n",
       " '11.5 What is a recursive function?\\n',\n",
       " '11.6 What is the alternative way to solve a problem that could be solved through recursive functions?\\n',\n",
       " '11.7 What is the difference between an array that is declared as static and one that is not?\\n',\n",
       " '11.8 What is the main difference between a string of characters that is read into a variable of type string versus a variable of type char[]?\\n',\n",
       " '11.9 Briefly describe the divide-and-conquer paradigm.\\n',\n",
       " '11.10 Briefly describe in one sentence how does merge sort work?\\n',\n",
       " '12.1 What is a pointer?\\n',\n",
       " '12.2 What is the experimental approach for measuring the running time of an algorithm?\\n',\n",
       " '12.3 Order the following functions by their running time: n^2; log(log n) ; 2^(log n) ; n! ; n^3.\\n',\n",
       " '12.4 Briefly, how does selection sort work?\\n',\n",
       " '12.5 What is the advantage of linked lists over arrays?\\n',\n",
       " '12.6 What is a queue?\\n',\n",
       " '12.7 What are the main operations associated with a stack?\\n',\n",
       " '12.8 What is the Euler tour traversal of a tree?\\n',\n",
       " '12.9 How do you delete a node from a binary search tree?\\n',\n",
       " '12.10 How many steps does it take to search a node in a binary search tree?\\n']"
      ]
     },
     "execution_count": 3,
     "metadata": {},
     "output_type": "execute_result"
    }
   ],
   "source": [
    "questions"
   ]
  },
  {
   "cell_type": "code",
   "execution_count": null,
   "metadata": {},
   "outputs": [],
   "source": []
  }
 ],
 "metadata": {
  "kernelspec": {
   "display_name": ".venv",
   "language": "python",
   "name": "python3"
  },
  "language_info": {
   "codemirror_mode": {
    "name": "ipython",
    "version": 3
   },
   "file_extension": ".py",
   "mimetype": "text/x-python",
   "name": "python",
   "nbconvert_exporter": "python",
   "pygments_lexer": "ipython3",
   "version": "3.10.1"
  }
 },
 "nbformat": 4,
 "nbformat_minor": 2
}
